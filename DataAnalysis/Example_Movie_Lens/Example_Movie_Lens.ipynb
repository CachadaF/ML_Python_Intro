{
 "cells": [
  {
   "cell_type": "markdown",
   "metadata": {},
   "source": [
    "# Example: Movie Lens"
   ]
  },
  {
   "cell_type": "code",
   "execution_count": 28,
   "metadata": {},
   "outputs": [
    {
     "name": "stdout",
     "output_type": "stream",
     "text": [
      "Populating the interactive namespace from numpy and matplotlib\n",
      "The autoreload extension is already loaded. To reload it, use:\n",
      "  %reload_ext autoreload\n"
     ]
    }
   ],
   "source": [
    "import pandas as pd\n",
    "import matplotlib.pyplot as plt\n",
    "%pylab inline\n",
    "%load_ext autoreload\n",
    "%autoreload 2"
   ]
  },
  {
   "cell_type": "code",
   "execution_count": 29,
   "metadata": {},
   "outputs": [],
   "source": [
    "#Reading the .csv from Movie Lens dataset\n",
    "links_columns = ['movieId','imdbId','tmdbId']\n",
    "links = pd.read_csv('links.csv', sep=',', names=links_columns, usecols=range(3))\n",
    "\n",
    "movie_columns = ['movieId','title','genres']\n",
    "movies = pd.read_csv('movies.csv', sep=',', names=movie_columns, usecols=range(3), encoding=\"iso-8859-1\")\n",
    "\n",
    "#Timestamp -> Not used\n",
    "ratings_columns = ['userId','movieId','rating']\n",
    "ratings = pd.read_csv('ratings.csv',sep=',', names=ratings_columns, usecols=range(3))\n",
    "\n",
    "#Timestamp -> Not used\n",
    "tags_columns = ['userId','movieId','tag']\n",
    "tags = pd.read_csv('tags.csv',sep=',', names=tags_columns, usecols=range(3))\n",
    " "
   ]
  },
  {
   "cell_type": "code",
   "execution_count": 30,
   "metadata": {},
   "outputs": [],
   "source": [
    "#Merge together\n",
    "movie_ratings = pd.merge(movies,ratings)\n",
    "movie_data = pd.merge(movie_ratings,links)\n",
    "#Problem merging tags.\n",
    "#movie_data2 = pd.merge(movie_links_ratings,tags)\n"
   ]
  },
  {
   "cell_type": "code",
   "execution_count": 31,
   "metadata": {
    "scrolled": false
   },
   "outputs": [
    {
     "name": "stdout",
     "output_type": "stream",
     "text": [
      "Top rated movies (overall):\n",
      "\n"
     ]
    },
    {
     "data": {
      "text/plain": [
       "(None, title\n",
       " Forrest Gump (1994)                                                               341\n",
       " Pulp Fiction (1994)                                                               324\n",
       " Shawshank Redemption, The (1994)                                                  311\n",
       " Silence of the Lambs, The (1991)                                                  304\n",
       " Star Wars: Episode IV - A New Hope (1977)                                         291\n",
       " Jurassic Park (1993)                                                              274\n",
       " Matrix, The (1999)                                                                259\n",
       " Toy Story (1995)                                                                  247\n",
       " Schindler's List (1993)                                                           244\n",
       " Terminator 2: Judgment Day (1991)                                                 237\n",
       " Star Wars: Episode V - The Empire Strikes Back (1980)                             234\n",
       " Braveheart (1995)                                                                 228\n",
       " Back to the Future (1985)                                                         226\n",
       " Fargo (1996)                                                                      224\n",
       " Raiders of the Lost Ark (Indiana Jones and the Raiders of the Lost Ark) (1981)    220\n",
       " American Beauty (1999)                                                            220\n",
       " Independence Day (a.k.a. ID4) (1996)                                              218\n",
       " Star Wars: Episode VI - Return of the Jedi (1983)                                 217\n",
       " Aladdin (1992)                                                                    215\n",
       " Fugitive, The (1993)                                                              213\n",
       " dtype: int64)"
      ]
     },
     "execution_count": 31,
     "metadata": {},
     "output_type": "execute_result"
    }
   ],
   "source": [
    "# Top rated movies\n",
    "print(\"Top rated movies (overall):\\n\"), movie_data.groupby('title').size().sort_values(ascending=False)[:20]\n",
    " "
   ]
  },
  {
   "cell_type": "code",
   "execution_count": 37,
   "metadata": {},
   "outputs": [],
   "source": [
    "Adventure = movie_data[movie_data.genres.str.contains('Adventure', case = True)]\n",
    "# Get the Adventure ones\n",
    "Adventure = Adventure.groupby('title').size().sort_values(ascending=False)"
   ]
  },
  {
   "cell_type": "code",
   "execution_count": 38,
   "metadata": {},
   "outputs": [
    {
     "name": "stdout",
     "output_type": "stream",
     "text": [
      "Top ten movies for oldies: \n",
      " title\n",
      "Star Wars: Episode IV - A New Hope (1977)                                         291\n",
      "Jurassic Park (1993)                                                              274\n",
      "Toy Story (1995)                                                                  247\n",
      "Star Wars: Episode V - The Empire Strikes Back (1980)                             234\n",
      "Back to the Future (1985)                                                         226\n",
      "Raiders of the Lost Ark (Indiana Jones and the Raiders of the Lost Ark) (1981)    220\n",
      "Independence Day (a.k.a. ID4) (1996)                                              218\n",
      "Star Wars: Episode VI - Return of the Jedi (1983)                                 217\n",
      "Aladdin (1992)                                                                    215\n",
      "Dances with Wolves (1990)                                                         202\n",
      "dtype: int64\n"
     ]
    }
   ],
   "source": [
    "print(\"Ten adventure - movies: \\n\", Adventure[:10])"
   ]
  },
  {
   "cell_type": "code",
   "execution_count": null,
   "metadata": {},
   "outputs": [],
   "source": []
  }
 ],
 "metadata": {
  "kernelspec": {
   "display_name": "Python 3",
   "language": "python",
   "name": "python3"
  },
  "language_info": {
   "codemirror_mode": {
    "name": "ipython",
    "version": 3
   },
   "file_extension": ".py",
   "mimetype": "text/x-python",
   "name": "python",
   "nbconvert_exporter": "python",
   "pygments_lexer": "ipython3",
   "version": "3.6.4"
  }
 },
 "nbformat": 4,
 "nbformat_minor": 2
}
