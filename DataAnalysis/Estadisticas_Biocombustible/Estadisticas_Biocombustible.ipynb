{
 "cells": [
  {
   "cell_type": "markdown",
   "metadata": {},
   "source": [
    "# Analisis Biocombustible"
   ]
  },
  {
   "cell_type": "code",
   "execution_count": 9,
   "metadata": {},
   "outputs": [
    {
     "name": "stdout",
     "output_type": "stream",
     "text": [
      "Populating the interactive namespace from numpy and matplotlib\n",
      "The autoreload extension is already loaded. To reload it, use:\n",
      "  %reload_ext autoreload\n"
     ]
    }
   ],
   "source": [
    "import pandas as pd\n",
    "import matplotlib.pyplot as plt\n",
    "%pylab inline\n",
    "%load_ext autoreload\n",
    "%autoreload 2"
   ]
  },
  {
   "cell_type": "code",
   "execution_count": 14,
   "metadata": {},
   "outputs": [],
   "source": [
    "excel_name = \"estadisticas_biocombustibles.xls\""
   ]
  },
  {
   "cell_type": "code",
   "execution_count": 55,
   "metadata": {},
   "outputs": [
    {
     "name": "stdout",
     "output_type": "stream",
     "text": [
      "          Produccion - Bioetanol total  Ventas - Bioetanol total  \\\n",
      "2009                      2.329700e+04              2.664000e+03   \n",
      "2010                      1.249300e+05              1.178060e+05   \n",
      "2011                      1.736230e+05              1.653920e+05   \n",
      "2012                      2.504890e+05              2.378430e+05   \n",
      "2013                      4.723800e+05              4.747520e+05   \n",
      "2014                      6.711210e+05              6.631020e+05   \n",
      "2015                      8.154080e+05              8.036390e+05   \n",
      "2016                      8.899455e+05              9.108909e+05   \n",
      "2017 (*)                  1.105107e+06              1.076875e+06   \n",
      "2018 (*)                  1.646153e+05              1.869479e+05   \n",
      "\n",
      "          Produccion - Bioetanol de Maiz  Ventas - Bioetanol de Maiz  \\\n",
      "2009                            0.000000                    0.000000   \n",
      "2010                            0.000000                    0.000000   \n",
      "2011                            0.000000                    0.000000   \n",
      "2012                        20500.000000                17395.000000   \n",
      "2013                       167594.000000               169143.000000   \n",
      "2014                       371257.000000               364900.000000   \n",
      "2015                       479265.000000               475570.000000   \n",
      "2016                       489836.800000               490525.250000   \n",
      "2017 (*)                   551963.526953               550743.610418   \n",
      "2018 (*)                    96036.020000                99746.020000   \n",
      "\n",
      "          Produccion - Bioetanol de Caña de azucar  \\\n",
      "2009                                  23297.000000   \n",
      "2010                                 124930.000000   \n",
      "2011                                 173623.000000   \n",
      "2012                                 229989.000000   \n",
      "2013                                 304786.000000   \n",
      "2014                                 299864.000000   \n",
      "2015                                 336144.000000   \n",
      "2016                                 400108.680000   \n",
      "2017 (*)                             553143.311015   \n",
      "2018 (*)                              68579.280000   \n",
      "\n",
      "          Ventas - Bioetanol de Caña de azucar  \n",
      "2009                               2664.000000  \n",
      "2010                             117806.000000  \n",
      "2011                             165392.000000  \n",
      "2012                             220448.000000  \n",
      "2013                             305609.000000  \n",
      "2014                             298202.000000  \n",
      "2015                             328069.000000  \n",
      "2016                             420365.600000  \n",
      "2017 (*)                         526130.995355  \n",
      "2018 (*)                          87201.900000  \n"
     ]
    }
   ],
   "source": [
    "production_name_columns = [\"Produccion - Bioetanol total\",\"Ventas - Bioetanol total\",\n",
    "                            \"Produccion - Bioetanol de Maiz\",\"Ventas - Bioetanol de Maiz\",\n",
    "                            \"Produccion - Bioetanol de Caña de azucar\",\"Ventas - Bioetanol de Caña de azucar\"]\n",
    "data_production = pd.read_excel(excel_name,\"RESUMEN BIOETANOL\",skiprows = [1,2,3,4,5],skip_footer = 109,\n",
    "                                usecols = 7, names = production_name_columns)\n",
    "print(data_production)"
   ]
  },
  {
   "cell_type": "code",
   "execution_count": null,
   "metadata": {},
   "outputs": [],
   "source": []
  }
 ],
 "metadata": {
  "kernelspec": {
   "display_name": "Python 3",
   "language": "python",
   "name": "python3"
  },
  "language_info": {
   "codemirror_mode": {
    "name": "ipython",
    "version": 3
   },
   "file_extension": ".py",
   "mimetype": "text/x-python",
   "name": "python",
   "nbconvert_exporter": "python",
   "pygments_lexer": "ipython3",
   "version": "3.6.4"
  }
 },
 "nbformat": 4,
 "nbformat_minor": 2
}
